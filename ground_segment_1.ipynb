{
 "cells": [
  {
   "cell_type": "code",
   "execution_count": 1,
   "id": "96d66466",
   "metadata": {},
   "outputs": [],
   "source": [
    "FILENAME = \"000000.pcd\" # The file to segment\n",
    "SUBSAMPLE = 5 # The amoutn of subsampling for faster plotting"
   ]
  },
  {
   "cell_type": "code",
   "execution_count": 2,
   "id": "dd1c8cbb",
   "metadata": {},
   "outputs": [],
   "source": [
    "%%capture\n",
    "%matplotlib inline\n",
    "import os\n",
    "import numpy as np \n",
    "import open3d as o3d\n",
    "import matplotlib.cm as cm\n",
    "from ipywidgets import interact, widgets\n",
    "from IPython.display import display\n",
    "import matplotlib.pyplot as plt\n",
    "import py_pcl_seg_lib\n",
    "\n",
    "plt.rcParams['figure.dpi'] = 600\n",
    "\n",
    "in_file = os.path.join(os.path.realpath(globals()['_dh'][0]), FILENAME)\n",
    "\n",
    "pcd = o3d.io.read_point_cloud(in_file)\n",
    "out_arr = np.asarray(pcd.points)  \n",
    "cloud_x, cloud_y, cloud_z= list(zip(*out_arr[::SUBSAMPLE]))\n",
    "\n",
    "def interactive_segment(max_iters, dist_thresh_cm, model, sac_type):\n",
    "    result = py_pcl_seg_lib.ground_segment_cloud_from_file(\n",
    "                            in_file,\n",
    "                            in_file + \".ground.pcd\",\n",
    "                            in_file + \".outliers.pcd\",\n",
    "                            model,\n",
    "                            sac_type,\n",
    "                            int(max_iters),\n",
    "                            dist_thresh_cm * 0.01,\n",
    "                            2,\n",
    "                            5.0 * (3.14159/180.0)\n",
    "                        )\n",
    "    ground_pcd = o3d.io.read_point_cloud(in_file + \".ground.pcd\")\n",
    "    ground_out_arr = np.asarray(ground_pcd.points)  \n",
    "    ground_cloud_x, ground_cloud_y, ground_cloud_z= list(zip(*ground_out_arr[::SUBSAMPLE]))\n",
    "    \n",
    "    ax_seg_top.clear()\n",
    "    ax_seg_top.scatter(ground_cloud_x, ground_cloud_y, s=0.1, c=cm.coolwarm([5*z for z in ground_cloud_z]/max(cloud_z)))\n",
    "    ax_seg_top.set_aspect('equal')\n",
    "    plt.setp(ax_seg_top, xlim=ax_orig.get_xlim(), ylim=ax_orig.get_ylim())\n",
    "    \n",
    "    ax_seg_side.clear()\n",
    "    ax_seg_side.scatter(ground_cloud_x, ground_cloud_z, s=0.05, c=cm.coolwarm([5*z for z in ground_cloud_z]/max(cloud_z)))\n",
    "    ax_seg_side.set_aspect('equal')\n",
    "    \n",
    "    ax_seg_top.set_title('Seg. Top')\n",
    "    ax_seg_side.set_title('Seg. Side')\n",
    "    plt.setp(ax_seg_top, xlim=ax_orig.get_xlim(), ylim=ax_orig.get_ylim())\n",
    "    plt.setp(ax_seg_side, xlim=ax_orig.get_xlim(), ylim=ax_orig.get_ylim())\n",
    "\n",
    "    fig.canvas.draw()\n",
    "    display(fig)\n",
    "\n",
    "fig, axs = plt.subplots(2, 2)\n",
    "ax_orig = axs[0,0]\n",
    "ax_orig_side = axs[1,0]\n",
    "ax_seg_top = axs[0,1] \n",
    "ax_seg_side = axs[1,1] \n",
    "ax_orig.set_title('Top')\n",
    "ax_orig_side.set_title('Side')\n",
    "ax_orig.scatter(cloud_x, cloud_y, s=0.05, c=cm.coolwarm([5*z for z in cloud_z]/max(cloud_z)))\n",
    "ax_orig_side.scatter(cloud_x, cloud_z, s=0.05, c=cm.coolwarm([5*z for z in cloud_z]/max(cloud_z)))\n",
    "ax_orig.set_aspect('equal')\n",
    "plt.setp(ax_orig, xlim=(-45,45), ylim=(-30,30))\n",
    "plt.setp(ax_orig_side, xlim=ax_orig.get_xlim(), ylim=ax_orig.get_ylim())"
   ]
  },
  {
   "cell_type": "code",
   "execution_count": 3,
   "id": "26bb323a",
   "metadata": {},
   "outputs": [
    {
     "data": {
      "application/vnd.jupyter.widget-view+json": {
       "model_id": "7e09796437fb4955b6888c375a9d4937",
       "version_major": 2,
       "version_minor": 0
      },
      "text/plain": [
       "interactive(children=(IntSlider(value=20, description='max_iters', max=1000, min=20, step=10), IntSlider(value…"
      ]
     },
     "metadata": {},
     "output_type": "display_data"
    }
   ],
   "source": [
    "# 'SAC_RMSAC' is extremely slow, we leave it out.\n",
    "interact(interactive_segment, \n",
    "         max_iters=widgets.IntSlider(min=20,max=1000,step=10,value=10), \n",
    "         dist_thresh_cm=widgets.IntSlider(min=0,max=200,step=1,value=5),\n",
    "         model=widgets.Dropdown(options=['SACMODEL_PERPENDICULAR_PLANE', 'SACMODEL_PLANE']),\n",
    "        sac_type=widgets.Dropdown(options=['SAC_RANSAC', 'SAC_LMEDS', 'SAC_MSAC', 'SAC_RRANSAC', 'SAC_MLESAC', 'SACi_PROSAC']));"
   ]
  },
  {
   "cell_type": "code",
   "execution_count": null,
   "id": "1ff45f16",
   "metadata": {},
   "outputs": [],
   "source": []
  }
 ],
 "metadata": {
  "kernelspec": {
   "display_name": "Python 3 (ipykernel)",
   "language": "python",
   "name": "python3"
  },
  "language_info": {
   "codemirror_mode": {
    "name": "ipython",
    "version": 3
   },
   "file_extension": ".py",
   "mimetype": "text/x-python",
   "name": "python",
   "nbconvert_exporter": "python",
   "pygments_lexer": "ipython3",
   "version": "3.8.13"
  }
 },
 "nbformat": 4,
 "nbformat_minor": 5
}
